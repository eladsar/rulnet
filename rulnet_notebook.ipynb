{
 "cells": [
  {
   "cell_type": "code",
   "execution_count": 1,
   "metadata": {},
   "outputs": [],
   "source": [
    "# %config Completer.use_jedi = False\n",
    "import pandas as pd\n",
    "import numpy as np\n",
    "from sklearn.datasets import fetch_covtype\n",
    "import matplotlib.pyplot as plt\n",
    "from collections import defaultdict, OrderedDict\n",
    "import torch\n",
    "from torch import nn\n",
    "import torch.nn.functional as F\n",
    "import math\n",
    "from khds import Optimizer\n",
    "from sklearn.model_selection import train_test_split\n",
    "from tqdm.notebook import tqdm\n",
    "import xgboost as xgb"
   ]
  },
  {
   "cell_type": "code",
   "execution_count": 2,
   "metadata": {},
   "outputs": [],
   "source": [
    "class LazyQuantileNorm(nn.Module):\n",
    "\n",
    "    def __init__(self, quantiles=50, momentum=.003, \n",
    "                 track_running_stats=True, noise=0.1,\n",
    "                 use_stats_for_train=True, boost=True, predefined=None):\n",
    "        super(LazyQuantileNorm, self).__init__()\n",
    "\n",
    "        if type(quantiles) is int:\n",
    "            quantiles = torch.arange(quantiles-1) / (quantiles - 2)\n",
    "        else:\n",
    "            assert type(quantiles) is torch.Tensor and len(quantiles.shape) == 1                        \n",
    "        \n",
    "        self.register_buffer(\"boundaries\", None)\n",
    "        self.register_buffer(\"quantiles\", quantiles)\n",
    "        self.bernoulli = torch.distributions.bernoulli.Bernoulli(probs=noise)\n",
    "\n",
    "        self.lr = momentum\n",
    "        self.boost = boost\n",
    "#         self.noise = noise\n",
    "        \n",
    "        \n",
    "        assert (not use_stats_for_train) or (use_stats_for_train and track_running_stats)\n",
    "\n",
    "        self.track_running_stats = track_running_stats\n",
    "        self.use_stats_for_train = use_stats_for_train\n",
    "\n",
    "        \n",
    "    def forward(self, x):\n",
    "        \n",
    "        shape = x.shape\n",
    "        \n",
    "        if not self.track_running_stats or self.boundaries is None:\n",
    "            boundaries = torch.quantile(x, self.quantiles, dim=0).transpose(0, 1)\n",
    "            if self.boundaries is None:\n",
    "                self.boundaries = boundaries\n",
    "        \n",
    "        else:\n",
    "            \n",
    "            if self.training:\n",
    "                \n",
    "                q = self.quantiles.view(1, 1, -1)\n",
    "                b = self.boundaries.unsqueeze(0)\n",
    "                xv = x.unsqueeze(-1).detach()\n",
    "                q_th = (q * (xv-b) > (1-q) * (b-xv)).float()\n",
    "                q_grad = (- q * q_th + (1 - q) * (1 - q_th)) * (~torch.isinf(xv)).float()\n",
    "                q_grad = q_grad.sum(dim=0)\n",
    "    \n",
    "                if self.boost:\n",
    "                    q = self.quantiles.unsqueeze(0)\n",
    "                    factor = (torch.max(1 / (q + 1e-3), 1 / (1 - q + 1e-3))) ** 0.5\n",
    "                else:\n",
    "                    factor = 1\n",
    "                    \n",
    "                self.boundaries = self.boundaries - self.lr * factor * q_grad\n",
    "        \n",
    "        \n",
    "        if (self.training and self.use_stats_for_train) or (not self.training and self.track_running_stats):\n",
    "            boundaries = self.boundaries\n",
    "        \n",
    "        xq = torch.searchsorted(boundaries, x.transpose(0, 1)).transpose(0, 1)\n",
    "        \n",
    "        if self.training:\n",
    "            n = (2 * torch.randint(1, size=xq.shape, device=xq.device) - 1) * self.bernoulli.sample(xq.shape).to(xq.device)\n",
    "            xq = torch.clamp(xq + n.long(), min=0, max=len(self.quantiles)-1)\n",
    "        \n",
    "        xq = xq + 1\n",
    "        xq[torch.isinf(x)] = 0\n",
    "        \n",
    "        return xq\n",
    "\n",
    "    \n",
    "class GBN(torch.nn.Module):\n",
    "    \"\"\"\n",
    "    Ghost Batch Normalization\n",
    "    https://arxiv.org/abs/1705.08741\n",
    "    \"\"\"\n",
    "\n",
    "    def __init__(self, input_dim, virtual_batch_size=128, momentum=0.01):\n",
    "        super(GBN, self).__init__()\n",
    "\n",
    "        self.input_dim = input_dim\n",
    "        self.virtual_batch_size = virtual_batch_size\n",
    "        self.bn = nn.BatchNorm1d(self.input_dim, momentum=momentum)\n",
    "\n",
    "    def forward(self, x):\n",
    "        chunks = x.chunk(int(np.ceil(x.shape[0] / self.virtual_batch_size)), 0)\n",
    "        res = [self.bn(x_) for x_ in chunks]\n",
    "\n",
    "        return torch.cat(res, dim=0)\n",
    "\n",
    "    \n",
    "class Sparsemax(nn.Module):\n",
    "    \"\"\"Sparsemax function.\"\"\"\n",
    "\n",
    "    def __init__(self, dim=None):\n",
    "        \"\"\"Initialize sparsemax activation\n",
    "        \n",
    "        Args:\n",
    "            dim (int, optional): The dimension over which to apply the sparsemax function.\n",
    "        \"\"\"\n",
    "        super(Sparsemax, self).__init__()\n",
    "\n",
    "        self.dim = -1 if dim is None else dim\n",
    "\n",
    "    def forward(self, input):\n",
    "        \"\"\"Forward function.\n",
    "        Args:\n",
    "            input (torch.Tensor): Input tensor. First dimension should be the batch size\n",
    "        Returns:\n",
    "            torch.Tensor: [batch_size x number_of_logits] Output tensor\n",
    "        \"\"\"\n",
    "        # Sparsemax currently only handles 2-dim tensors,\n",
    "        # so we reshape to a convenient shape and reshape back after sparsemax\n",
    "        input = input.transpose(0, self.dim)\n",
    "        original_size = input.size()\n",
    "        input = input.reshape(input.size(0), -1)\n",
    "        input = input.transpose(0, 1)\n",
    "        dim = 1\n",
    "\n",
    "        number_of_logits = input.size(dim)\n",
    "\n",
    "        # Translate input by max for numerical stability\n",
    "        input = input - torch.max(input, dim=dim, keepdim=True)[0].expand_as(input)\n",
    "\n",
    "        # Sort input in descending order.\n",
    "        # (NOTE: Can be replaced with linear time selection method described here:\n",
    "        # http://stanford.edu/~jduchi/projects/DuchiShSiCh08.html)\n",
    "        zs = torch.sort(input=input, dim=dim, descending=True)[0]\n",
    "        range = torch.arange(start=1, end=number_of_logits + 1, step=1, device=input.device, dtype=input.dtype).view(1, -1)\n",
    "        range = range.expand_as(zs)\n",
    "\n",
    "        # Determine sparsity of projection\n",
    "        bound = 1 + range * zs\n",
    "        cumulative_sum_zs = torch.cumsum(zs, dim)\n",
    "        is_gt = torch.gt(bound, cumulative_sum_zs).type(input.type())\n",
    "        k = torch.max(is_gt * range, dim, keepdim=True)[0]\n",
    "\n",
    "        # Compute threshold function\n",
    "        zs_sparse = is_gt * zs\n",
    "\n",
    "        # Compute taus\n",
    "        taus = (torch.sum(zs_sparse, dim, keepdim=True) - 1) / k\n",
    "        taus = taus.expand_as(input)\n",
    "\n",
    "        # Sparsemax\n",
    "        self.output = torch.max(torch.zeros_like(input), input - taus)\n",
    "\n",
    "        # Reshape back to original shape\n",
    "        output = self.output\n",
    "        output = output.transpose(0, 1)\n",
    "        output = output.reshape(original_size)\n",
    "        output = output.transpose(0, self.dim)\n",
    "\n",
    "        return output\n",
    "\n",
    "    def backward(self, grad_output):\n",
    "        \"\"\"Backward function.\"\"\"\n",
    "        dim = 1\n",
    "\n",
    "        nonzeros = torch.ne(self.output, 0)\n",
    "        sum = torch.sum(grad_output * nonzeros, dim=dim) / torch.sum(nonzeros, dim=dim)\n",
    "        self.grad_input = nonzeros * (grad_output - sum.expand_as(grad_output))\n",
    "\n",
    "        return self.grad_input\n",
    "\n",
    "\n",
    "def preprocess_feature(v, nq=20):\n",
    "    '''\n",
    "    get vector of features and calculate\n",
    "    quantiles/categories\n",
    "    \n",
    "    returns vc, categories\n",
    "    \n",
    "    vc - categorical representation of v\n",
    "    categories - names of categories (if quantile it is (a, b])\n",
    "    \n",
    "    currently does not handle nan.\n",
    "    '''\n",
    "    \n",
    "    if type(v) is not pd.Series:\n",
    "        v = pd.Series(v)\n",
    "    \n",
    "    # for now we use a simple rule to distinguish between categorical and numerical features\n",
    "    n = v.nunique()\n",
    "    \n",
    "    if n > nq:\n",
    "        \n",
    "        c_type = 'numerical'\n",
    "        \n",
    "        q = (np.arange(nq + 1)) / nq\n",
    "        \n",
    "        vc = pd.qcut(v, q, labels=False, duplicates='drop')\n",
    "        categories = v.quantile(q).values[:-1]\n",
    "        vc = vc.fillna(-1).values\n",
    "        \n",
    "    else:\n",
    "        \n",
    "        c_type = 'categorical'\n",
    "        \n",
    "        vc, categories = pd.factorize(v)\n",
    "       \n",
    "    \n",
    "    # allocate nan value\n",
    "    categories = np.insert(categories, 0, np.nan)\n",
    "    vc = vc + 1\n",
    "        \n",
    "    return vc, categories, c_type\n",
    "\n",
    "\n",
    "def preprocess_table(df, nq=20):\n",
    "    \n",
    "    metadata = defaultdict(OrderedDict)\n",
    "    n = 0\n",
    "    dfc = {}\n",
    "    \n",
    "    for c in df.columns:\n",
    "        vc, categories, c_type = preprocess_feature(df[c], nq=nq)\n",
    "        \n",
    "        m = len(categories)\n",
    "        metadata['n_features'][c] = m\n",
    "        metadata['categories'][c] = categories\n",
    "        metadata['aggregated_n_features'][c] = n\n",
    "        metadata['c_type'][c] = c_type\n",
    "        \n",
    "        vc = vc + n\n",
    "        n = n + m\n",
    "        dfc[c] = vc\n",
    "       \n",
    "    dfc = pd.DataFrame(dfc).astype(np.int64)\n",
    "    \n",
    "    metadata['total_features'] = n\n",
    "        \n",
    "    return dfc, metadata\n",
    "\n",
    "\n",
    "class RuleLayer(nn.Module):\n",
    "\n",
    "    def __init__(self, n_rules, e_dim_in, e_dim_out, bias=True, pos_enc=None, dropout=0.0):\n",
    "        super(RuleLayer, self).__init__()\n",
    "\n",
    "        self.query = nn.Parameter(torch.empty((n_rules, e_dim_out)))\n",
    "        nn.init.kaiming_uniform_(self.query, a=math.sqrt(5))\n",
    "\n",
    "        self.key = nn.Linear(e_dim_in, e_dim_out, bias=bias)\n",
    "        self.value = nn.Linear(e_dim_in, e_dim_out, bias=bias)\n",
    "        self.e_dim_out = e_dim_out\n",
    "        self.sparsemax = Sparsemax(dim=1)\n",
    "        self.tau = 1.\n",
    "        \n",
    "#         self.sparsemax = nn.Softmax(dim=1)\n",
    "\n",
    "        if pos_enc is None:\n",
    "            \n",
    "#             _, _, V = torch.svd(torch.randn(e_dim_in, e_dim_in))\n",
    "#             pos_enc = V.T.clone()\n",
    "    \n",
    "#         self.register_buffer('pos_enc', pos_enc)\n",
    "\n",
    "            self.pos_enc = nn.Parameter(torch.empty((e_dim_in, e_dim_out)))\n",
    "            nn.init.kaiming_uniform_(self.pos_enc, a=math.sqrt(5))\n",
    "        \n",
    "    def forward(self, x):\n",
    "        \n",
    "        b, nf, ne = x.shape\n",
    "        \n",
    "        ##############\n",
    "        pos = self.pos_enc[:nf].unsqueeze(0).repeat(b, 1, 1)  \n",
    "        x = x + pos\n",
    "        ##############\n",
    "                        \n",
    "        k = self.key(x)\n",
    "        v = self.value(x)\n",
    "        q = self.query\n",
    "                \n",
    "        a = k @ q.T / math.sqrt(self.e_dim_out)\n",
    "        a_prob = self.sparsemax(a / self.tau).transpose(1, 2)\n",
    "        \n",
    "        r = torch.bmm(a_prob, v)\n",
    "        \n",
    "        return r, a_prob\n",
    "\n",
    "\n",
    "class mySequential(nn.Sequential):\n",
    "    def forward(self, *input):\n",
    "        for module in self._modules.values():\n",
    "            input = module(*input)\n",
    "        return input\n",
    "\n",
    "    \n",
    "class ResRuleLayer(nn.Module):\n",
    "\n",
    "    def __init__(self, n_rules, e_dim, bias=True, activation='gelu', dropout=0.0, n_out=1, n_features=None):\n",
    "        super(ResRuleLayer, self).__init__()\n",
    "\n",
    "        self.bn1 = GBN(e_dim, virtual_batch_size=256, momentum=0.1)\n",
    "        self.rl1 = RuleLayer(n_rules, e_dim, e_dim, bias=bias, dropout=dropout)\n",
    "        self.sl1 = RuleLayer(n_rules, e_dim, e_dim, bias=bias, dropout=dropout)\n",
    "        self.bn2 = GBN(e_dim, virtual_batch_size=256, momentum=0.1)\n",
    "        self.rl2 = RuleLayer(n_rules, e_dim, e_dim, bias=bias, dropout=dropout)\n",
    "        self.sl2 = RuleLayer(n_rules, e_dim, e_dim, bias=bias, dropout=dropout)\n",
    "        self.activation = getattr(F, activation)\n",
    "\n",
    "        self.last_rule = RuleLayer(1, e_dim, e_dim, bias=bias, dropout=dropout)\n",
    "        \n",
    "        self.lin = nn.Sequential(nn.Flatten(start_dim=-2, end_dim=-1),\n",
    "                               nn.Linear(e_dim, n_out, bias=bias))\n",
    "        \n",
    "    def forward(self, x, e, y):\n",
    "                        \n",
    "        r = x\n",
    "        r = self.bn1(r.transpose(1, 2)).transpose(1, 2)\n",
    "        r = self.activation(r)\n",
    "                \n",
    "        r1, ai = self.rl1(r)\n",
    "        s1, ai = self.sl1(r)\n",
    "        \n",
    "        r = torch.sigmoid(s1) * r1\n",
    "\n",
    "        r = self.bn2(r.transpose(1, 2)).transpose(1, 2)\n",
    "        r = self.activation(r)\n",
    "        \n",
    "        r2, ai = self.rl2(r)        \n",
    "        s2, ai = self.sl2(r)\n",
    "        \n",
    "        r = torch.sigmoid(s2) * r2\n",
    "                \n",
    "        r = r + x\n",
    "                \n",
    "        y.append(self.lin(self.last_rule(r)[0]))\n",
    "                \n",
    "        return r, e, y\n",
    "    \n",
    "class RuleNet(nn.Module):\n",
    "\n",
    "    def __init__(self, n_features, features_offset, embedding_dim=256, n_rules=128, \n",
    "                 n_layers=5, dropout=0.2, n_out=1, bias=True, activation='gelu', noise=0.1,\n",
    "                 quantiles=50, predefined_boundaries=None):\n",
    "        super(RuleNet, self).__init__()\n",
    "            \n",
    "        self.q_norm = LazyQuantileNorm(quantiles=quantiles, predefined=predefined_boundaries, noise=noise)\n",
    "        self.register_buffer('features_offset', features_offset) \n",
    "        \n",
    "        self.emb = nn.Embedding(n_features, embedding_dim, sparse=True)\n",
    "        \n",
    "        self.first_rule = RuleLayer(n_rules, embedding_dim, embedding_dim, \n",
    "                                    bias=bias, dropout=dropout)\n",
    "        self.rules = mySequential(*[ResRuleLayer(n_rules, embedding_dim, \n",
    "                                                 bias=bias, activation=activation, \n",
    "                                                 dropout=dropout, n_out=n_out) \n",
    "                                    for _ in range(n_layers)],\n",
    "                                  )    \n",
    "        \n",
    "    def forward(self, x_num, x_cat):\n",
    "        \n",
    "        x_num = self.q_norm(x_num)\n",
    "        \n",
    "        x = torch.cat([x_num, x_cat], dim=1) + self.features_offset\n",
    "                \n",
    "        e = self.emb(x)        \n",
    "        x, _ = self.first_rule(e)\n",
    "                \n",
    "        x, _, y = self.rules(x, e, [])\n",
    "\n",
    "        y = torch.stack(y, dim=1).sum(dim=1)\n",
    "        \n",
    "        return y, None, None\n",
    "\n",
    "    \n",
    "class EmbNet(nn.Module):\n",
    "\n",
    "    def __init__(self, n_features, embedding_dim=256, n_out=1, bias=True):\n",
    "        super(EmbNet, self).__init__()\n",
    "\n",
    "        self.emb = nn.Embedding(n_features, embedding_dim, sparse=True)\n",
    "        self.lin = nn.Linear(embedding_dim, n_out, bias=bias)\n",
    "    \n",
    "        \n",
    "    def forward(self, x):\n",
    "                \n",
    "        x = self.emb(x).mean(dim=1)\n",
    "        y = self.lin(x)\n",
    "        \n",
    "        return y, None\n",
    "    \n",
    "class BaseNet(nn.Module):\n",
    "\n",
    "    def __init__(self, n_features, n_hidden=256, n_out=1, bias=True):\n",
    "        super(BaseNet, self).__init__()\n",
    "\n",
    "        self.lin = nn.Sequential(nn.Linear(n_features, n_hidden, bias=bias),\n",
    "                              nn.BatchNorm1d(n_hidden),\n",
    "                             nn.GELU(),\n",
    "                             nn.Linear(n_hidden, n_hidden, bias=bias),\n",
    "                              nn.BatchNorm1d(n_hidden),\n",
    "                             nn.GELU(),\n",
    "                             nn.Linear(n_hidden, n_hidden, bias=bias),\n",
    "                              nn.BatchNorm1d(n_hidden),\n",
    "                             nn.GELU(),\n",
    "                             nn.Linear(n_hidden, n_out, bias=bias))    \n",
    "        \n",
    "    def forward(self, x):\n",
    "                        \n",
    "        y = self.lin(x)\n",
    "        \n",
    "        return y, None"
   ]
  },
  {
   "cell_type": "code",
   "execution_count": 3,
   "metadata": {},
   "outputs": [],
   "source": [
    "data = fetch_covtype()\n",
    "device = 1\n",
    "quantiles = 100\n",
    "\n",
    "labels = data['target']\n",
    "df = pd.DataFrame(data['data'])\n",
    "\n",
    "dfc, metadata = preprocess_table(df, nq=quantiles)\n",
    "labels, cat = pd.factorize(labels)\n",
    "\n",
    "categorical_columns = [i for i, c in enumerate(metadata['c_type'].values()) if c == 'categorical']\n",
    "numerical_columns = [i for i, c in enumerate(metadata['c_type'].values()) if c == 'numerical']\n",
    "\n",
    "x_cat = torch.LongTensor(df.values[:, categorical_columns] + 1)\n",
    "x_num = torch.FloatTensor(df.values[:, numerical_columns])\n",
    "\n",
    "predefined_boundaries = torch.quantile(x_num, torch.arange(quantiles+1) / quantiles, dim=0).transpose(0, 1)\n",
    "\n",
    "features_offset = torch.LongTensor([v for v in metadata['aggregated_n_features'].values()])\n",
    "total_features = metadata['total_features']\n",
    "\n",
    "y = torch.LongTensor(labels).to(device)\n",
    "x_cat = x_cat.to(device)\n",
    "x_num = x_num.to(device)\n",
    "\n",
    "train_indices, test_indices = train_test_split(torch.arange(len(y)), test_size=116203, random_state=3463)\n",
    "train_indices, validation_indices = train_test_split(train_indices, test_size=92962, random_state=3464)"
   ]
  },
  {
   "cell_type": "code",
   "execution_count": 4,
   "metadata": {},
   "outputs": [],
   "source": [
    "batch = 256 * 4\n",
    "batch_test = 256 * 4\n",
    "\n",
    "epoch_length = len(train_indices) // batch\n",
    "epoch_length_val = len(validation_indices) // batch\n",
    "epoch_length_test = len(test_indices) // batch\n",
    "\n",
    "n_epochs = 500\n",
    "br_d = 0.005\n",
    "n_layers = 4\n",
    "\n",
    "min_lr = 3e-6\n",
    "br = 1.\n",
    "bernoulli = torch.distributions.bernoulli.Bernoulli(probs=br)\n",
    "\n",
    "net = RuleNet(total_features, features_offset, n_out=int(y.max()+1),  embedding_dim=128, n_rules=64, \n",
    "              n_layers=n_layers, activation='gelu', dropout=0.0, quantiles=quantiles, noise=.2,\n",
    "              predefined_boundaries=predefined_boundaries).to(device)\n",
    "\n",
    "optimizer = Optimizer(net, dense_ars={'lr': 1e-3, 'eps': 1e-8, 'weight_decay': 0}, \n",
    "                      sparse_args={'lr': 1e-1, 'eps': 1e-8})\n",
    "\n",
    "scheduler_dense = torch.optim.lr_scheduler.ReduceLROnPlateau(optimizer.dense, mode='min', factor=1 / math.sqrt(10), patience=16, threshold=0, threshold_mode='rel', cooldown=0, min_lr=0, eps=1e-08, verbose=True)\n",
    "scheduler_sparse = torch.optim.lr_scheduler.ReduceLROnPlateau(optimizer.sparse, mode='min', factor=1 / math.sqrt(10), patience=16, threshold=0, threshold_mode='rel', cooldown=0, min_lr=0, eps=1e-08, verbose=True)\n",
    "\n",
    "best_weight = net.state_dict()\n",
    "best_acc = 0"
   ]
  },
  {
   "cell_type": "code",
   "execution_count": null,
   "metadata": {},
   "outputs": [
    {
     "data": {
      "application/vnd.jupyter.widget-view+json": {
       "model_id": "1c60d4cf381042c296e159c46a5c073e",
       "version_major": 2,
       "version_minor": 0
      },
      "text/plain": [
       "  0%|          | 0/363 [00:00<?, ?it/s]"
      ]
     },
     "metadata": {},
     "output_type": "display_data"
    },
    {
     "name": "stderr",
     "output_type": "stream",
     "text": [
      "/tmp/ipykernel_40494/3041149873.py:60: UserWarning: input value tensor is non-contiguous, this will lower the performance due to extra data copy when converting non-contiguous tensor to contiguous, please use contiguous input value tensor if possible (Triggered internally at  /opt/conda/conda-bld/pytorch_1616554793803/work/aten/src/ATen/native/BucketizationUtils.h:20.)\n",
      "  xq = torch.searchsorted(boundaries, x.transpose(0, 1)).transpose(0, 1)\n",
      "/tmp/ipykernel_40494/3041149873.py:60: UserWarning: input value tensor is non-contiguous, this will lower the performance due to extra data copy when converting non-contiguous tensor to contiguous, please use contiguous input value tensor if possible (Triggered internally at  /opt/conda/conda-bld/pytorch_1616554793803/work/aten/src/ATen/native/BucketizationUtils.h:25.)\n",
      "  xq = torch.searchsorted(boundaries, x.transpose(0, 1)).transpose(0, 1)\n"
     ]
    },
    {
     "data": {
      "application/vnd.jupyter.widget-view+json": {
       "model_id": "720f30b39765445fb220c2e0f5154665",
       "version_major": 2,
       "version_minor": 0
      },
      "text/plain": [
       "  0%|          | 0/113 [00:00<?, ?it/s]"
      ]
     },
     "metadata": {},
     "output_type": "display_data"
    },
    {
     "data": {
      "application/vnd.jupyter.widget-view+json": {
       "model_id": "d9efd6c85b5a4f27989bad39505a4788",
       "version_major": 2,
       "version_minor": 0
      },
      "text/plain": [
       "  0%|          | 0/90 [00:00<?, ?it/s]"
      ]
     },
     "metadata": {},
     "output_type": "display_data"
    },
    {
     "name": "stdout",
     "output_type": "stream",
     "text": [
      "epoch 0: Update best weights\n",
      "epoch: 0\n",
      "bernoulli: 1.0\n",
      "train_loss: 567.2111474239465\n",
      "train_accuracy: 0.7637337508608816\n",
      "lr: 0.0010000000000000002\n",
      "test_loss: 421.02376968248757\n",
      "test_accuracy: 0.825566924778761\n",
      "val_loss: 419.6343729654948\n",
      "val_accuracy: 0.82333984375\n"
     ]
    },
    {
     "data": {
      "application/vnd.jupyter.widget-view+json": {
       "model_id": "723bbc035bd44c869b1e6c0f30b3108c",
       "version_major": 2,
       "version_minor": 0
      },
      "text/plain": [
       "  0%|          | 0/363 [00:00<?, ?it/s]"
      ]
     },
     "metadata": {},
     "output_type": "display_data"
    },
    {
     "data": {
      "application/vnd.jupyter.widget-view+json": {
       "model_id": "5f012369d0db4161a9509e3eaadb7c64",
       "version_major": 2,
       "version_minor": 0
      },
      "text/plain": [
       "  0%|          | 0/113 [00:00<?, ?it/s]"
      ]
     },
     "metadata": {},
     "output_type": "display_data"
    },
    {
     "data": {
      "application/vnd.jupyter.widget-view+json": {
       "model_id": "6ecae42169544492975fa3530ff04c61",
       "version_major": 2,
       "version_minor": 0
      },
      "text/plain": [
       "  0%|          | 0/90 [00:00<?, ?it/s]"
      ]
     },
     "metadata": {},
     "output_type": "display_data"
    },
    {
     "name": "stdout",
     "output_type": "stream",
     "text": [
      "epoch 1: Update best weights\n",
      "epoch: 1\n",
      "bernoulli: 1\n",
      "train_loss: 360.73697050740896\n",
      "train_accuracy: 0.853558669077135\n",
      "lr: 0.0010000000000000002\n",
      "test_loss: 288.14089722759957\n",
      "test_accuracy: 0.8847915514380531\n",
      "val_loss: 288.5475346883138\n",
      "val_accuracy: 0.8846571180555556\n"
     ]
    },
    {
     "data": {
      "application/vnd.jupyter.widget-view+json": {
       "model_id": "fadacfc0d3d740b49e34447f2bcfe19d",
       "version_major": 2,
       "version_minor": 0
      },
      "text/plain": [
       "  0%|          | 0/363 [00:00<?, ?it/s]"
      ]
     },
     "metadata": {},
     "output_type": "display_data"
    },
    {
     "data": {
      "application/vnd.jupyter.widget-view+json": {
       "model_id": "6c47c3a392c14959bcafddcec49f7b40",
       "version_major": 2,
       "version_minor": 0
      },
      "text/plain": [
       "  0%|          | 0/113 [00:00<?, ?it/s]"
      ]
     },
     "metadata": {},
     "output_type": "display_data"
    },
    {
     "data": {
      "application/vnd.jupyter.widget-view+json": {
       "model_id": "c977b05fe7cf40ffa58a3904eb23aed9",
       "version_major": 2,
       "version_minor": 0
      },
      "text/plain": [
       "  0%|          | 0/90 [00:00<?, ?it/s]"
      ]
     },
     "metadata": {},
     "output_type": "display_data"
    },
    {
     "name": "stdout",
     "output_type": "stream",
     "text": [
      "epoch 2: Update best weights\n",
      "epoch: 2\n",
      "bernoulli: 1\n",
      "train_loss: 266.8932630050281\n",
      "train_accuracy: 0.8945608428030303\n",
      "lr: 0.0010000000000000002\n",
      "test_loss: 236.74848654417866\n",
      "test_accuracy: 0.9079611449115044\n",
      "val_loss: 241.28247290717232\n",
      "val_accuracy: 0.9064453125\n"
     ]
    },
    {
     "data": {
      "application/vnd.jupyter.widget-view+json": {
       "model_id": "75085c165ad2403486820390c9756560",
       "version_major": 2,
       "version_minor": 0
      },
      "text/plain": [
       "  0%|          | 0/363 [00:00<?, ?it/s]"
      ]
     },
     "metadata": {},
     "output_type": "display_data"
    },
    {
     "data": {
      "application/vnd.jupyter.widget-view+json": {
       "model_id": "18f3cb3dd2484fa0961885e50da51c18",
       "version_major": 2,
       "version_minor": 0
      },
      "text/plain": [
       "  0%|          | 0/113 [00:00<?, ?it/s]"
      ]
     },
     "metadata": {},
     "output_type": "display_data"
    },
    {
     "data": {
      "application/vnd.jupyter.widget-view+json": {
       "model_id": "377e08fa8a7c4a34ba3563baeb811335",
       "version_major": 2,
       "version_minor": 0
      },
      "text/plain": [
       "  0%|          | 0/90 [00:00<?, ?it/s]"
      ]
     },
     "metadata": {},
     "output_type": "display_data"
    },
    {
     "name": "stdout",
     "output_type": "stream",
     "text": [
      "epoch 3: Update best weights\n",
      "epoch: 3\n",
      "bernoulli: 1\n",
      "train_loss: 220.73535307576833\n",
      "train_accuracy: 0.9141781809573003\n",
      "lr: 0.0010000000000000002\n",
      "test_loss: 211.49872204265762\n",
      "test_accuracy: 0.9176403484513275\n",
      "val_loss: 208.08175133599175\n",
      "val_accuracy: 0.9197916666666667\n"
     ]
    },
    {
     "data": {
      "application/vnd.jupyter.widget-view+json": {
       "model_id": "aecfa5d857054feba02910d2c1fa7d01",
       "version_major": 2,
       "version_minor": 0
      },
      "text/plain": [
       "  0%|          | 0/363 [00:00<?, ?it/s]"
      ]
     },
     "metadata": {},
     "output_type": "display_data"
    },
    {
     "data": {
      "application/vnd.jupyter.widget-view+json": {
       "model_id": "cbe88d7493194bfa944e5d393e39cfbd",
       "version_major": 2,
       "version_minor": 0
      },
      "text/plain": [
       "  0%|          | 0/113 [00:00<?, ?it/s]"
      ]
     },
     "metadata": {},
     "output_type": "display_data"
    },
    {
     "data": {
      "application/vnd.jupyter.widget-view+json": {
       "model_id": "2dc8dd9a1d5c4d228b7abce2e2408abc",
       "version_major": 2,
       "version_minor": 0
      },
      "text/plain": [
       "  0%|          | 0/90 [00:00<?, ?it/s]"
      ]
     },
     "metadata": {},
     "output_type": "display_data"
    },
    {
     "name": "stdout",
     "output_type": "stream",
     "text": [
      "epoch 4: Update best weights\n",
      "epoch: 4\n",
      "bernoulli: 1\n",
      "train_loss: 192.75361507195086\n",
      "train_accuracy: 0.9253077651515151\n",
      "lr: 0.0010000000000000002\n",
      "test_loss: 187.36777665129804\n",
      "test_accuracy: 0.9281664823008849\n",
      "val_loss: 185.59468756781683\n",
      "val_accuracy: 0.9285590277777778\n"
     ]
    },
    {
     "data": {
      "application/vnd.jupyter.widget-view+json": {
       "model_id": "65aee5bbba684b139298d4c7bbda51f5",
       "version_major": 2,
       "version_minor": 0
      },
      "text/plain": [
       "  0%|          | 0/363 [00:00<?, ?it/s]"
      ]
     },
     "metadata": {},
     "output_type": "display_data"
    },
    {
     "data": {
      "application/vnd.jupyter.widget-view+json": {
       "model_id": "fbfdd14c57f141a5ac005129f23ae659",
       "version_major": 2,
       "version_minor": 0
      },
      "text/plain": [
       "  0%|          | 0/113 [00:00<?, ?it/s]"
      ]
     },
     "metadata": {},
     "output_type": "display_data"
    },
    {
     "data": {
      "application/vnd.jupyter.widget-view+json": {
       "model_id": "87ff0f72b92543d98ad98ddaa8c8c765",
       "version_major": 2,
       "version_minor": 0
      },
      "text/plain": [
       "  0%|          | 0/90 [00:00<?, ?it/s]"
      ]
     },
     "metadata": {},
     "output_type": "display_data"
    },
    {
     "name": "stdout",
     "output_type": "stream",
     "text": [
      "epoch 5: Update best weights\n",
      "epoch: 5\n",
      "bernoulli: 1\n",
      "train_loss: 173.6311140244329\n",
      "train_accuracy: 0.9333220342630854\n",
      "lr: 0.0010000000000000002\n",
      "test_loss: 175.7662018632467\n",
      "test_accuracy: 0.9330406526548672\n",
      "val_loss: 175.92877638075086\n",
      "val_accuracy: 0.9331163194444444\n"
     ]
    },
    {
     "data": {
      "application/vnd.jupyter.widget-view+json": {
       "model_id": "60e27465964444c4a54c006157c9c9c9",
       "version_major": 2,
       "version_minor": 0
      },
      "text/plain": [
       "  0%|          | 0/363 [00:00<?, ?it/s]"
      ]
     },
     "metadata": {},
     "output_type": "display_data"
    },
    {
     "data": {
      "application/vnd.jupyter.widget-view+json": {
       "model_id": "e0cfcaffb6424ebebc336922204f25d5",
       "version_major": 2,
       "version_minor": 0
      },
      "text/plain": [
       "  0%|          | 0/113 [00:00<?, ?it/s]"
      ]
     },
     "metadata": {},
     "output_type": "display_data"
    },
    {
     "data": {
      "application/vnd.jupyter.widget-view+json": {
       "model_id": "f48ada0a39a64ef8bfcc67274f7d1b1a",
       "version_major": 2,
       "version_minor": 0
      },
      "text/plain": [
       "  0%|          | 0/90 [00:00<?, ?it/s]"
      ]
     },
     "metadata": {},
     "output_type": "display_data"
    },
    {
     "name": "stdout",
     "output_type": "stream",
     "text": [
      "epoch 6: Update best weights\n",
      "epoch: 6\n",
      "bernoulli: 0.995\n",
      "train_loss: 171.77966485141724\n",
      "train_accuracy: 0.9341156594352618\n",
      "lr: 0.0010000000000000002\n",
      "test_loss: 168.03470240230055\n",
      "test_accuracy: 0.9359616980088495\n",
      "val_loss: 166.21565907796224\n",
      "val_accuracy: 0.9360134548611111\n"
     ]
    },
    {
     "data": {
      "application/vnd.jupyter.widget-view+json": {
       "model_id": "3f4614e06484428691f7ec25d82c288f",
       "version_major": 2,
       "version_minor": 0
      },
      "text/plain": [
       "  0%|          | 0/363 [00:00<?, ?it/s]"
      ]
     },
     "metadata": {},
     "output_type": "display_data"
    },
    {
     "data": {
      "application/vnd.jupyter.widget-view+json": {
       "model_id": "c07f0653f7dc46c7bd1db8889b990bee",
       "version_major": 2,
       "version_minor": 0
      },
      "text/plain": [
       "  0%|          | 0/113 [00:00<?, ?it/s]"
      ]
     },
     "metadata": {},
     "output_type": "display_data"
    },
    {
     "data": {
      "application/vnd.jupyter.widget-view+json": {
       "model_id": "20eef5ade91941a2a6b4457aba8a06e9",
       "version_major": 2,
       "version_minor": 0
      },
      "text/plain": [
       "  0%|          | 0/90 [00:00<?, ?it/s]"
      ]
     },
     "metadata": {},
     "output_type": "display_data"
    },
    {
     "name": "stdout",
     "output_type": "stream",
     "text": [
      "epoch 7: Update best weights\n",
      "epoch: 7\n",
      "bernoulli: 1.0\n",
      "train_loss: 151.60563329691402\n",
      "train_accuracy: 0.941618780130854\n",
      "lr: 0.0010000000000000002\n",
      "test_loss: 159.6523938474402\n",
      "test_accuracy: 0.9393753456858407\n",
      "val_loss: 161.5384644402398\n",
      "val_accuracy: 0.9386067708333333\n"
     ]
    },
    {
     "data": {
      "application/vnd.jupyter.widget-view+json": {
       "model_id": "f4eea6d294b647bd8c77af6a54c9305e",
       "version_major": 2,
       "version_minor": 0
      },
      "text/plain": [
       "  0%|          | 0/363 [00:00<?, ?it/s]"
      ]
     },
     "metadata": {},
     "output_type": "display_data"
    },
    {
     "data": {
      "application/vnd.jupyter.widget-view+json": {
       "model_id": "1f0c69b77cb949ae8cc53bd5abdf9c87",
       "version_major": 2,
       "version_minor": 0
      },
      "text/plain": [
       "  0%|          | 0/113 [00:00<?, ?it/s]"
      ]
     },
     "metadata": {},
     "output_type": "display_data"
    },
    {
     "data": {
      "application/vnd.jupyter.widget-view+json": {
       "model_id": "e56fd7e7c22c4d4cb8cefd89ecb9a494",
       "version_major": 2,
       "version_minor": 0
      },
      "text/plain": [
       "  0%|          | 0/90 [00:00<?, ?it/s]"
      ]
     },
     "metadata": {},
     "output_type": "display_data"
    },
    {
     "name": "stdout",
     "output_type": "stream",
     "text": [
      "epoch 8: Update best weights\n",
      "epoch: 8\n",
      "bernoulli: 0.995\n",
      "train_loss: 151.9797775857048\n",
      "train_accuracy: 0.9411910296143251\n",
      "lr: 0.0010000000000000002\n",
      "test_loss: 151.53015501309284\n",
      "test_accuracy: 0.9415704507743363\n",
      "val_loss: 151.47732043796117\n",
      "val_accuracy: 0.941796875\n"
     ]
    },
    {
     "data": {
      "application/vnd.jupyter.widget-view+json": {
       "model_id": "f7933aa255254ac0b4df730e783c6d59",
       "version_major": 2,
       "version_minor": 0
      },
      "text/plain": [
       "  0%|          | 0/363 [00:00<?, ?it/s]"
      ]
     },
     "metadata": {},
     "output_type": "display_data"
    },
    {
     "data": {
      "application/vnd.jupyter.widget-view+json": {
       "model_id": "0083f05a200b43bf8dc5215cb13b78ba",
       "version_major": 2,
       "version_minor": 0
      },
      "text/plain": [
       "  0%|          | 0/113 [00:00<?, ?it/s]"
      ]
     },
     "metadata": {},
     "output_type": "display_data"
    },
    {
     "data": {
      "application/vnd.jupyter.widget-view+json": {
       "model_id": "6b06a42f21c44a1793d7c5ed76d9d554",
       "version_major": 2,
       "version_minor": 0
      },
      "text/plain": [
       "  0%|          | 0/90 [00:00<?, ?it/s]"
      ]
     },
     "metadata": {},
     "output_type": "display_data"
    },
    {
     "name": "stdout",
     "output_type": "stream",
     "text": [
      "epoch 9: Update best weights\n",
      "epoch: 9\n",
      "bernoulli: 1.0\n",
      "train_loss: 135.10922594306882\n",
      "train_accuracy: 0.9482744705578512\n",
      "lr: 0.0010000000000000002\n",
      "test_loss: 150.47939705637705\n",
      "test_accuracy: 0.9433161642699115\n",
      "val_loss: 149.80362396240236\n",
      "val_accuracy: 0.9433810763888889\n"
     ]
    },
    {
     "data": {
      "application/vnd.jupyter.widget-view+json": {
       "model_id": "be019a6cd8ee47549d707f70582e9157",
       "version_major": 2,
       "version_minor": 0
      },
      "text/plain": [
       "  0%|          | 0/363 [00:00<?, ?it/s]"
      ]
     },
     "metadata": {},
     "output_type": "display_data"
    },
    {
     "data": {
      "application/vnd.jupyter.widget-view+json": {
       "model_id": "581e72bcd4414f5ebbd013e978ef3354",
       "version_major": 2,
       "version_minor": 0
      },
      "text/plain": [
       "  0%|          | 0/113 [00:00<?, ?it/s]"
      ]
     },
     "metadata": {},
     "output_type": "display_data"
    },
    {
     "data": {
      "application/vnd.jupyter.widget-view+json": {
       "model_id": "59baf2d6d3174c7a902dc54e8e8fb8a5",
       "version_major": 2,
       "version_minor": 0
      },
      "text/plain": [
       "  0%|          | 0/90 [00:00<?, ?it/s]"
      ]
     },
     "metadata": {},
     "output_type": "display_data"
    },
    {
     "name": "stdout",
     "output_type": "stream",
     "text": [
      "epoch 10: Update best weights\n",
      "epoch: 10\n",
      "bernoulli: 0.995\n",
      "train_loss: 137.1325972375791\n",
      "train_accuracy: 0.9472602444903582\n",
      "lr: 0.0010000000000000002\n",
      "test_loss: 141.13543903722172\n",
      "test_accuracy: 0.9462890625\n",
      "val_loss: 141.0145282321506\n",
      "val_accuracy: 0.9466254340277778\n"
     ]
    },
    {
     "data": {
      "application/vnd.jupyter.widget-view+json": {
       "model_id": "f9b33734a4324727ad54be265c10c4a8",
       "version_major": 2,
       "version_minor": 0
      },
      "text/plain": [
       "  0%|          | 0/363 [00:00<?, ?it/s]"
      ]
     },
     "metadata": {},
     "output_type": "display_data"
    },
    {
     "data": {
      "application/vnd.jupyter.widget-view+json": {
       "model_id": "c2d60d737ca843078e3bdcbc06305f0f",
       "version_major": 2,
       "version_minor": 0
      },
      "text/plain": [
       "  0%|          | 0/113 [00:00<?, ?it/s]"
      ]
     },
     "metadata": {},
     "output_type": "display_data"
    },
    {
     "data": {
      "application/vnd.jupyter.widget-view+json": {
       "model_id": "ade8e3a7c65041c38e954aba0da86237",
       "version_major": 2,
       "version_minor": 0
      },
      "text/plain": [
       "  0%|          | 0/90 [00:00<?, ?it/s]"
      ]
     },
     "metadata": {},
     "output_type": "display_data"
    },
    {
     "name": "stdout",
     "output_type": "stream",
     "text": [
      "epoch: 11\n",
      "bernoulli: 0.99\n",
      "train_loss: 140.52455519579001\n",
      "train_accuracy: 0.9456245695592287\n",
      "lr: 0.0010000000000000002\n",
      "test_loss: 146.252558142738\n",
      "test_accuracy: 0.9448371819690266\n",
      "val_loss: 144.75708880954318\n",
      "val_accuracy: 0.9457899305555556\n"
     ]
    },
    {
     "data": {
      "application/vnd.jupyter.widget-view+json": {
       "model_id": "c56cfe4386214d9eae25098ce639c1b2",
       "version_major": 2,
       "version_minor": 0
      },
      "text/plain": [
       "  0%|          | 0/363 [00:00<?, ?it/s]"
      ]
     },
     "metadata": {},
     "output_type": "display_data"
    },
    {
     "data": {
      "application/vnd.jupyter.widget-view+json": {
       "model_id": "82cb320c6422409d9ebda810700269a6",
       "version_major": 2,
       "version_minor": 0
      },
      "text/plain": [
       "  0%|          | 0/113 [00:00<?, ?it/s]"
      ]
     },
     "metadata": {},
     "output_type": "display_data"
    },
    {
     "data": {
      "application/vnd.jupyter.widget-view+json": {
       "model_id": "ff4f93b9e4d24b138a1459820607c98b",
       "version_major": 2,
       "version_minor": 0
      },
      "text/plain": [
       "  0%|          | 0/90 [00:00<?, ?it/s]"
      ]
     },
     "metadata": {},
     "output_type": "display_data"
    },
    {
     "name": "stdout",
     "output_type": "stream",
     "text": [
      "epoch: 12\n",
      "bernoulli: 0.985\n",
      "train_loss: 143.80249897770318\n",
      "train_accuracy: 0.9444865917699724\n",
      "lr: 0.0010000000000000002\n",
      "test_loss: 141.803007345284\n",
      "test_accuracy: 0.9467989491150443\n",
      "val_loss: 141.2498352050781\n",
      "val_accuracy: 0.9464735243055555\n"
     ]
    },
    {
     "data": {
      "application/vnd.jupyter.widget-view+json": {
       "model_id": "93651f85b50b457b8991dc2cced8e878",
       "version_major": 2,
       "version_minor": 0
      },
      "text/plain": [
       "  0%|          | 0/363 [00:00<?, ?it/s]"
      ]
     },
     "metadata": {},
     "output_type": "display_data"
    },
    {
     "data": {
      "application/vnd.jupyter.widget-view+json": {
       "model_id": "c21c0e4693d44707892a90e5b9e3cb55",
       "version_major": 2,
       "version_minor": 0
      },
      "text/plain": [
       "  0%|          | 0/113 [00:00<?, ?it/s]"
      ]
     },
     "metadata": {},
     "output_type": "display_data"
    },
    {
     "data": {
      "application/vnd.jupyter.widget-view+json": {
       "model_id": "31ec733cf568495b9cbbb51afd08d085",
       "version_major": 2,
       "version_minor": 0
      },
      "text/plain": [
       "  0%|          | 0/90 [00:00<?, ?it/s]"
      ]
     },
     "metadata": {},
     "output_type": "display_data"
    },
    {
     "name": "stdout",
     "output_type": "stream",
     "text": [
      "epoch 13: Update best weights\n",
      "epoch: 13\n",
      "bernoulli: 0.99\n",
      "train_loss: 131.23081816786248\n",
      "train_accuracy: 0.9490035296143251\n",
      "lr: 0.0010000000000000002\n",
      "test_loss: 139.43240808807644\n",
      "test_accuracy: 0.947956996681416\n",
      "val_loss: 137.62321302625867\n",
      "val_accuracy: 0.9490559895833334\n"
     ]
    },
    {
     "data": {
      "application/vnd.jupyter.widget-view+json": {
       "model_id": "8fe665b28ebe4611bf6a19322bae9ac2",
       "version_major": 2,
       "version_minor": 0
      },
      "text/plain": [
       "  0%|          | 0/363 [00:00<?, ?it/s]"
      ]
     },
     "metadata": {},
     "output_type": "display_data"
    },
    {
     "data": {
      "application/vnd.jupyter.widget-view+json": {
       "model_id": "578f4ff49fad4b32a7d9d161f7f43226",
       "version_major": 2,
       "version_minor": 0
      },
      "text/plain": [
       "  0%|          | 0/113 [00:00<?, ?it/s]"
      ]
     },
     "metadata": {},
     "output_type": "display_data"
    },
    {
     "data": {
      "application/vnd.jupyter.widget-view+json": {
       "model_id": "0a13908ac43c494d9602144cd22c13bc",
       "version_major": 2,
       "version_minor": 0
      },
      "text/plain": [
       "  0%|          | 0/90 [00:00<?, ?it/s]"
      ]
     },
     "metadata": {},
     "output_type": "display_data"
    },
    {
     "name": "stdout",
     "output_type": "stream",
     "text": [
      "epoch: 14\n",
      "bernoulli: 0.985\n",
      "train_loss: 135.61232913098715\n",
      "train_accuracy: 0.9479758522727273\n",
      "lr: 0.0010000000000000002\n",
      "test_loss: 135.73971429335333\n",
      "test_accuracy: 0.948933559181416\n",
      "val_loss: 138.07052451239693\n",
      "val_accuracy: 0.94873046875\n"
     ]
    },
    {
     "data": {
      "application/vnd.jupyter.widget-view+json": {
       "model_id": "31fd7932ee554e938c440b8965fab2cf",
       "version_major": 2,
       "version_minor": 0
      },
      "text/plain": [
       "  0%|          | 0/363 [00:00<?, ?it/s]"
      ]
     },
     "metadata": {},
     "output_type": "display_data"
    },
    {
     "data": {
      "application/vnd.jupyter.widget-view+json": {
       "model_id": "c2a0980c04644b379fdf7a64229b63b5",
       "version_major": 2,
       "version_minor": 0
      },
      "text/plain": [
       "  0%|          | 0/113 [00:00<?, ?it/s]"
      ]
     },
     "metadata": {},
     "output_type": "display_data"
    },
    {
     "data": {
      "application/vnd.jupyter.widget-view+json": {
       "model_id": "3252a412617e4a13835212132da1c601",
       "version_major": 2,
       "version_minor": 0
      },
      "text/plain": [
       "  0%|          | 0/90 [00:00<?, ?it/s]"
      ]
     },
     "metadata": {},
     "output_type": "display_data"
    },
    {
     "name": "stdout",
     "output_type": "stream",
     "text": [
      "epoch: 15\n",
      "bernoulli: 0.98\n",
      "train_loss: 138.24750205636352\n",
      "train_accuracy: 0.9464020532024794\n",
      "lr: 0.0010000000000000002\n",
      "test_loss: 137.71739493851112\n",
      "test_accuracy: 0.9486570105088495\n",
      "val_loss: 136.89214011298284\n",
      "val_accuracy: 0.9487630208333333\n"
     ]
    },
    {
     "data": {
      "application/vnd.jupyter.widget-view+json": {
       "model_id": "a40325e3dc2543beb8c06a0d7c551a88",
       "version_major": 2,
       "version_minor": 0
      },
      "text/plain": [
       "  0%|          | 0/363 [00:00<?, ?it/s]"
      ]
     },
     "metadata": {},
     "output_type": "display_data"
    },
    {
     "data": {
      "application/vnd.jupyter.widget-view+json": {
       "model_id": "ca5c49e50482480aac31bd9db4089de5",
       "version_major": 2,
       "version_minor": 0
      },
      "text/plain": [
       "  0%|          | 0/113 [00:00<?, ?it/s]"
      ]
     },
     "metadata": {},
     "output_type": "display_data"
    },
    {
     "data": {
      "application/vnd.jupyter.widget-view+json": {
       "model_id": "b49c469ef54d4d48a032f5950ee74a2d",
       "version_major": 2,
       "version_minor": 0
      },
      "text/plain": [
       "  0%|          | 0/90 [00:00<?, ?it/s]"
      ]
     },
     "metadata": {},
     "output_type": "display_data"
    },
    {
     "name": "stdout",
     "output_type": "stream",
     "text": [
      "epoch 16: Update best weights\n",
      "epoch: 16\n",
      "bernoulli: 0.985\n",
      "train_loss: 128.17307516891438\n",
      "train_accuracy: 0.9508006198347108\n",
      "lr: 0.0010000000000000002\n",
      "test_loss: 132.7524311437016\n",
      "test_accuracy: 0.9506792726769911\n",
      "val_loss: 130.62402301364475\n",
      "val_accuracy: 0.9515190972222223\n"
     ]
    },
    {
     "data": {
      "application/vnd.jupyter.widget-view+json": {
       "model_id": "d1dba54a47004801b616ac4e714b7141",
       "version_major": 2,
       "version_minor": 0
      },
      "text/plain": [
       "  0%|          | 0/363 [00:00<?, ?it/s]"
      ]
     },
     "metadata": {},
     "output_type": "display_data"
    },
    {
     "data": {
      "application/vnd.jupyter.widget-view+json": {
       "model_id": "8d57a46f75444efba71962c26cf37a5b",
       "version_major": 2,
       "version_minor": 0
      },
      "text/plain": [
       "  0%|          | 0/113 [00:00<?, ?it/s]"
      ]
     },
     "metadata": {},
     "output_type": "display_data"
    },
    {
     "data": {
      "application/vnd.jupyter.widget-view+json": {
       "model_id": "bc436e599af748969d0a1ec7dbdb9797",
       "version_major": 2,
       "version_minor": 0
      },
      "text/plain": [
       "  0%|          | 0/90 [00:00<?, ?it/s]"
      ]
     },
     "metadata": {},
     "output_type": "display_data"
    },
    {
     "name": "stdout",
     "output_type": "stream",
     "text": [
      "epoch: 17\n",
      "bernoulli: 0.98\n",
      "train_loss: 132.3268650359687\n",
      "train_accuracy: 0.9485165934917356\n",
      "lr: 0.0010000000000000002\n",
      "test_loss: 139.3191803788717\n",
      "test_accuracy: 0.9489854120575221\n",
      "val_loss: 138.14589326646592\n",
      "val_accuracy: 0.9488606770833333\n"
     ]
    },
    {
     "data": {
      "application/vnd.jupyter.widget-view+json": {
       "model_id": "e52f8da2f8c9404e809eaa23e560bb10",
       "version_major": 2,
       "version_minor": 0
      },
      "text/plain": [
       "  0%|          | 0/363 [00:00<?, ?it/s]"
      ]
     },
     "metadata": {},
     "output_type": "display_data"
    },
    {
     "data": {
      "application/vnd.jupyter.widget-view+json": {
       "model_id": "f5fed8ecd34447bcba96d0ab59fd4f2b",
       "version_major": 2,
       "version_minor": 0
      },
      "text/plain": [
       "  0%|          | 0/113 [00:00<?, ?it/s]"
      ]
     },
     "metadata": {},
     "output_type": "display_data"
    },
    {
     "data": {
      "application/vnd.jupyter.widget-view+json": {
       "model_id": "fcdcd5cf42dc4cd389f10ccd6ce9448b",
       "version_major": 2,
       "version_minor": 0
      },
      "text/plain": [
       "  0%|          | 0/90 [00:00<?, ?it/s]"
      ]
     },
     "metadata": {},
     "output_type": "display_data"
    },
    {
     "name": "stdout",
     "output_type": "stream",
     "text": [
      "epoch 18: Update best weights\n",
      "epoch: 18\n",
      "bernoulli: 0.975\n",
      "train_loss: 137.64546010251215\n",
      "train_accuracy: 0.9464235752410468\n",
      "lr: 0.0010000000000000002\n",
      "test_loss: 130.00270026552994\n",
      "test_accuracy: 0.9511200221238938\n",
      "val_loss: 127.74485651652019\n",
      "val_accuracy: 0.9520073784722223\n"
     ]
    },
    {
     "data": {
      "application/vnd.jupyter.widget-view+json": {
       "model_id": "a68c5774f3a348d1b995e6e363b35217",
       "version_major": 2,
       "version_minor": 0
      },
      "text/plain": [
       "  0%|          | 0/363 [00:00<?, ?it/s]"
      ]
     },
     "metadata": {},
     "output_type": "display_data"
    },
    {
     "data": {
      "application/vnd.jupyter.widget-view+json": {
       "model_id": "c5e7ce021c734b0ba0c8323bea68a720",
       "version_major": 2,
       "version_minor": 0
      },
      "text/plain": [
       "  0%|          | 0/113 [00:00<?, ?it/s]"
      ]
     },
     "metadata": {},
     "output_type": "display_data"
    },
    {
     "data": {
      "application/vnd.jupyter.widget-view+json": {
       "model_id": "f83fa2f73639478e8b4459d47c3a307b",
       "version_major": 2,
       "version_minor": 0
      },
      "text/plain": [
       "  0%|          | 0/90 [00:00<?, ?it/s]"
      ]
     },
     "metadata": {},
     "output_type": "display_data"
    },
    {
     "name": "stdout",
     "output_type": "stream",
     "text": [
      "epoch: 19\n",
      "bernoulli: 0.98\n",
      "train_loss: 127.12974798449471\n",
      "train_accuracy: 0.9508813274793388\n",
      "lr: 0.0010000000000000002\n",
      "test_loss: 131.88414676632502\n",
      "test_accuracy: 0.9511113799778761\n",
      "val_loss: 131.56076532999674\n",
      "val_accuracy: 0.9507378472222222\n"
     ]
    },
    {
     "data": {
      "application/vnd.jupyter.widget-view+json": {
       "model_id": "b856a02768bd465aa4f66606d849e205",
       "version_major": 2,
       "version_minor": 0
      },
      "text/plain": [
       "  0%|          | 0/363 [00:00<?, ?it/s]"
      ]
     },
     "metadata": {},
     "output_type": "display_data"
    },
    {
     "data": {
      "application/vnd.jupyter.widget-view+json": {
       "model_id": "7ca527d8b856436db7259e7ea8271c64",
       "version_major": 2,
       "version_minor": 0
      },
      "text/plain": [
       "  0%|          | 0/113 [00:00<?, ?it/s]"
      ]
     },
     "metadata": {},
     "output_type": "display_data"
    },
    {
     "data": {
      "application/vnd.jupyter.widget-view+json": {
       "model_id": "45301ae4b5aa44c6aa0d6bd5736b5309",
       "version_major": 2,
       "version_minor": 0
      },
      "text/plain": [
       "  0%|          | 0/90 [00:00<?, ?it/s]"
      ]
     },
     "metadata": {},
     "output_type": "display_data"
    },
    {
     "name": "stdout",
     "output_type": "stream",
     "text": [
      "epoch 20: Update best weights\n",
      "epoch: 20\n",
      "bernoulli: 0.975\n",
      "train_loss: 130.84398636410717\n",
      "train_accuracy: 0.9489443440082644\n",
      "lr: 0.0010000000000000002\n",
      "test_loss: 132.55710527538199\n",
      "test_accuracy: 0.9515348451327433\n",
      "val_loss: 129.4068354288737\n",
      "val_accuracy: 0.95322265625\n"
     ]
    },
    {
     "data": {
      "application/vnd.jupyter.widget-view+json": {
       "model_id": "5058d069940d4795b8e8b3a1a2ba1303",
       "version_major": 2,
       "version_minor": 0
      },
      "text/plain": [
       "  0%|          | 0/363 [00:00<?, ?it/s]"
      ]
     },
     "metadata": {},
     "output_type": "display_data"
    },
    {
     "data": {
      "application/vnd.jupyter.widget-view+json": {
       "model_id": "87b3fa7625e64b6b97bc6e51cd6ffa26",
       "version_major": 2,
       "version_minor": 0
      },
      "text/plain": [
       "  0%|          | 0/113 [00:00<?, ?it/s]"
      ]
     },
     "metadata": {},
     "output_type": "display_data"
    },
    {
     "data": {
      "application/vnd.jupyter.widget-view+json": {
       "model_id": "ebad4f941f0d486f9b5f62d834798c78",
       "version_major": 2,
       "version_minor": 0
      },
      "text/plain": [
       "  0%|          | 0/90 [00:00<?, ?it/s]"
      ]
     },
     "metadata": {},
     "output_type": "display_data"
    },
    {
     "name": "stdout",
     "output_type": "stream",
     "text": [
      "epoch 21: Update best weights\n",
      "epoch: 21\n",
      "bernoulli: 0.98\n",
      "train_loss: 121.22684510286189\n",
      "train_accuracy: 0.953337530130854\n",
      "lr: 0.0010000000000000002\n",
      "test_loss: 130.77729615068014\n",
      "test_accuracy: 0.951776825221239\n",
      "val_loss: 126.96390719943577\n",
      "val_accuracy: 0.9534939236111111\n"
     ]
    },
    {
     "data": {
      "application/vnd.jupyter.widget-view+json": {
       "model_id": "9e5fa3516f234a07a3057179b3dde0ec",
       "version_major": 2,
       "version_minor": 0
      },
      "text/plain": [
       "  0%|          | 0/363 [00:00<?, ?it/s]"
      ]
     },
     "metadata": {},
     "output_type": "display_data"
    },
    {
     "data": {
      "application/vnd.jupyter.widget-view+json": {
       "model_id": "bfc582ec605a4834a71f31b4c1dfdf34",
       "version_major": 2,
       "version_minor": 0
      },
      "text/plain": [
       "  0%|          | 0/113 [00:00<?, ?it/s]"
      ]
     },
     "metadata": {},
     "output_type": "display_data"
    },
    {
     "data": {
      "application/vnd.jupyter.widget-view+json": {
       "model_id": "3e61ffc8d48a4464b0f3bc3651c3610c",
       "version_major": 2,
       "version_minor": 0
      },
      "text/plain": [
       "  0%|          | 0/90 [00:00<?, ?it/s]"
      ]
     },
     "metadata": {},
     "output_type": "display_data"
    },
    {
     "name": "stdout",
     "output_type": "stream",
     "text": [
      "epoch 22: Update best weights\n",
      "epoch: 22\n",
      "bernoulli: 0.975\n",
      "train_loss: 125.10246150749774\n",
      "train_accuracy: 0.9517018551997245\n",
      "lr: 0.0010000000000000002\n",
      "test_loss: 125.84782956553771\n",
      "test_accuracy: 0.9530645049778761\n",
      "val_loss: 123.45015318128797\n",
      "val_accuracy: 0.9547309027777777\n"
     ]
    },
    {
     "data": {
      "application/vnd.jupyter.widget-view+json": {
       "model_id": "bcbf8631c85c42afa2813c073e8dcb7a",
       "version_major": 2,
       "version_minor": 0
      },
      "text/plain": [
       "  0%|          | 0/363 [00:00<?, ?it/s]"
      ]
     },
     "metadata": {},
     "output_type": "display_data"
    },
    {
     "data": {
      "application/vnd.jupyter.widget-view+json": {
       "model_id": "21e5fa3f5b084dcf830243502e8f3c5b",
       "version_major": 2,
       "version_minor": 0
      },
      "text/plain": [
       "  0%|          | 0/113 [00:00<?, ?it/s]"
      ]
     },
     "metadata": {},
     "output_type": "display_data"
    },
    {
     "data": {
      "application/vnd.jupyter.widget-view+json": {
       "model_id": "6a3f110c88774f73ae17b7b079e7730a",
       "version_major": 2,
       "version_minor": 0
      },
      "text/plain": [
       "  0%|          | 0/90 [00:00<?, ?it/s]"
      ]
     },
     "metadata": {},
     "output_type": "display_data"
    },
    {
     "name": "stdout",
     "output_type": "stream",
     "text": [
      "epoch 23: Update best weights\n",
      "epoch: 23\n",
      "bernoulli: 0.98\n",
      "train_loss: 116.34640547066681\n",
      "train_accuracy: 0.9545185519972452\n",
      "lr: 0.0010000000000000002\n",
      "test_loss: 127.76114965118138\n",
      "test_accuracy: 0.9534361172566371\n",
      "val_loss: 122.29689017401802\n",
      "val_accuracy: 0.9551106770833333\n"
     ]
    },
    {
     "data": {
      "application/vnd.jupyter.widget-view+json": {
       "model_id": "04d5661a6edd440b92b78f060d9f4f0b",
       "version_major": 2,
       "version_minor": 0
      },
      "text/plain": [
       "  0%|          | 0/363 [00:00<?, ?it/s]"
      ]
     },
     "metadata": {},
     "output_type": "display_data"
    },
    {
     "data": {
      "application/vnd.jupyter.widget-view+json": {
       "model_id": "f99ad3907f3e40159511c7d79bd3e550",
       "version_major": 2,
       "version_minor": 0
      },
      "text/plain": [
       "  0%|          | 0/113 [00:00<?, ?it/s]"
      ]
     },
     "metadata": {},
     "output_type": "display_data"
    },
    {
     "data": {
      "application/vnd.jupyter.widget-view+json": {
       "model_id": "d7cbe819f8934c54b549603b8eb545d9",
       "version_major": 2,
       "version_minor": 0
      },
      "text/plain": [
       "  0%|          | 0/90 [00:00<?, ?it/s]"
      ]
     },
     "metadata": {},
     "output_type": "display_data"
    },
    {
     "name": "stdout",
     "output_type": "stream",
     "text": [
      "epoch 24: Update best weights\n",
      "epoch: 24\n",
      "bernoulli: 0.975\n",
      "train_loss: 121.47919365328534\n",
      "train_accuracy: 0.9530604338842975\n",
      "lr: 0.0010000000000000002\n",
      "test_loss: 124.89465541333225\n",
      "test_accuracy: 0.9551818307522124\n",
      "val_loss: 122.54635281032986\n",
      "val_accuracy: 0.9555447048611111\n"
     ]
    },
    {
     "data": {
      "application/vnd.jupyter.widget-view+json": {
       "model_id": "564f85c41208457faf700343585f7919",
       "version_major": 2,
       "version_minor": 0
      },
      "text/plain": [
       "  0%|          | 0/363 [00:00<?, ?it/s]"
      ]
     },
     "metadata": {},
     "output_type": "display_data"
    },
    {
     "data": {
      "application/vnd.jupyter.widget-view+json": {
       "model_id": "e946171b55284055ad26ed3017b7a915",
       "version_major": 2,
       "version_minor": 0
      },
      "text/plain": [
       "  0%|          | 0/113 [00:00<?, ?it/s]"
      ]
     },
     "metadata": {},
     "output_type": "display_data"
    },
    {
     "data": {
      "application/vnd.jupyter.widget-view+json": {
       "model_id": "b545389115464b4086fa9462ed07f241",
       "version_major": 2,
       "version_minor": 0
      },
      "text/plain": [
       "  0%|          | 0/90 [00:00<?, ?it/s]"
      ]
     },
     "metadata": {},
     "output_type": "display_data"
    },
    {
     "name": "stdout",
     "output_type": "stream",
     "text": [
      "epoch: 25\n",
      "bernoulli: 0.97\n",
      "train_loss: 125.12954758152817\n",
      "train_accuracy: 0.951467803030303\n",
      "lr: 0.0010000000000000002\n",
      "test_loss: 132.6680505803201\n",
      "test_accuracy: 0.9524249861725663\n",
      "val_loss: 130.17428334554037\n",
      "val_accuracy: 0.9533420138888888\n"
     ]
    },
    {
     "data": {
      "application/vnd.jupyter.widget-view+json": {
       "model_id": "976059c0426347cd8e0fe25dfd037e1c",
       "version_major": 2,
       "version_minor": 0
      },
      "text/plain": [
       "  0%|          | 0/363 [00:00<?, ?it/s]"
      ]
     },
     "metadata": {},
     "output_type": "display_data"
    },
    {
     "data": {
      "application/vnd.jupyter.widget-view+json": {
       "model_id": "e5e03e3d21ad4620a97336e182c0a753",
       "version_major": 2,
       "version_minor": 0
      },
      "text/plain": [
       "  0%|          | 0/113 [00:00<?, ?it/s]"
      ]
     },
     "metadata": {},
     "output_type": "display_data"
    },
    {
     "data": {
      "application/vnd.jupyter.widget-view+json": {
       "model_id": "ad98aaf7942b42af98a1247018bc4896",
       "version_major": 2,
       "version_minor": 0
      },
      "text/plain": [
       "  0%|          | 0/90 [00:00<?, ?it/s]"
      ]
     },
     "metadata": {},
     "output_type": "display_data"
    },
    {
     "name": "stdout",
     "output_type": "stream",
     "text": [
      "epoch: 26\n",
      "bernoulli: 0.965\n",
      "train_loss: 130.9014988208277\n",
      "train_accuracy: 0.9493505724862259\n",
      "lr: 0.0010000000000000002\n",
      "test_loss: 128.4939767618095\n",
      "test_accuracy: 0.9534447594026548\n",
      "val_loss: 124.55857984754775\n",
      "val_accuracy: 0.9540473090277778\n"
     ]
    },
    {
     "data": {
      "application/vnd.jupyter.widget-view+json": {
       "model_id": "0355e054ad26440793700ae91d3f1d30",
       "version_major": 2,
       "version_minor": 0
      },
      "text/plain": [
       "  0%|          | 0/363 [00:00<?, ?it/s]"
      ]
     },
     "metadata": {},
     "output_type": "display_data"
    },
    {
     "data": {
      "application/vnd.jupyter.widget-view+json": {
       "model_id": "77436b73ff9740ee8c32662df7dd7f03",
       "version_major": 2,
       "version_minor": 0
      },
      "text/plain": [
       "  0%|          | 0/113 [00:00<?, ?it/s]"
      ]
     },
     "metadata": {},
     "output_type": "display_data"
    },
    {
     "data": {
      "application/vnd.jupyter.widget-view+json": {
       "model_id": "619fd899dafc4bfba023e07bddb40f1e",
       "version_major": 2,
       "version_minor": 0
      },
      "text/plain": [
       "  0%|          | 0/90 [00:00<?, ?it/s]"
      ]
     },
     "metadata": {},
     "output_type": "display_data"
    },
    {
     "name": "stdout",
     "output_type": "stream",
     "text": [
      "epoch 27: Update best weights\n",
      "epoch: 27\n",
      "bernoulli: 0.97\n",
      "train_loss: 121.52332738871088\n",
      "train_accuracy: 0.9528828770661157\n",
      "lr: 0.0010000000000000002\n",
      "test_loss: 126.07415676960903\n",
      "test_accuracy: 0.9550521985619469\n",
      "val_loss: 124.75767508612739\n",
      "val_accuracy: 0.9558485243055556\n"
     ]
    },
    {
     "data": {
      "application/vnd.jupyter.widget-view+json": {
       "model_id": "ef5b365415a74177a58732b879204ac1",
       "version_major": 2,
       "version_minor": 0
      },
      "text/plain": [
       "  0%|          | 0/363 [00:00<?, ?it/s]"
      ]
     },
     "metadata": {},
     "output_type": "display_data"
    },
    {
     "data": {
      "application/vnd.jupyter.widget-view+json": {
       "model_id": "eca5fee9faf44b4aa1766122272da353",
       "version_major": 2,
       "version_minor": 0
      },
      "text/plain": [
       "  0%|          | 0/113 [00:00<?, ?it/s]"
      ]
     },
     "metadata": {},
     "output_type": "display_data"
    },
    {
     "data": {
      "application/vnd.jupyter.widget-view+json": {
       "model_id": "41dc4bbb6b9246acb6e5a5712a565a55",
       "version_major": 2,
       "version_minor": 0
      },
      "text/plain": [
       "  0%|          | 0/90 [00:00<?, ?it/s]"
      ]
     },
     "metadata": {},
     "output_type": "display_data"
    },
    {
     "name": "stdout",
     "output_type": "stream",
     "text": [
      "epoch: 28\n",
      "bernoulli: 0.965\n",
      "train_loss: 127.30186227005046\n",
      "train_accuracy: 0.9505907799586777\n",
      "lr: 0.0010000000000000002\n",
      "test_loss: 123.44938976996768\n",
      "test_accuracy: 0.9550435564159292\n",
      "val_loss: 122.11313052707249\n",
      "val_accuracy: 0.9556749131944444\n"
     ]
    },
    {
     "data": {
      "application/vnd.jupyter.widget-view+json": {
       "model_id": "2568eb7e0ff64c11a08ddd371c35e026",
       "version_major": 2,
       "version_minor": 0
      },
      "text/plain": [
       "  0%|          | 0/363 [00:00<?, ?it/s]"
      ]
     },
     "metadata": {},
     "output_type": "display_data"
    },
    {
     "data": {
      "application/vnd.jupyter.widget-view+json": {
       "model_id": "61ff41a9c74c4daaaddc3f444a6cc669",
       "version_major": 2,
       "version_minor": 0
      },
      "text/plain": [
       "  0%|          | 0/113 [00:00<?, ?it/s]"
      ]
     },
     "metadata": {},
     "output_type": "display_data"
    },
    {
     "data": {
      "application/vnd.jupyter.widget-view+json": {
       "model_id": "ba51f8788d3b452f85eba317fa2d7ebe",
       "version_major": 2,
       "version_minor": 0
      },
      "text/plain": [
       "  0%|          | 0/90 [00:00<?, ?it/s]"
      ]
     },
     "metadata": {},
     "output_type": "display_data"
    },
    {
     "name": "stdout",
     "output_type": "stream",
     "text": [
      "epoch: 29\n",
      "bernoulli: 0.97\n",
      "train_loss: 118.39264653733939\n",
      "train_accuracy: 0.9539939523071626\n",
      "lr: 0.0010000000000000002\n",
      "test_loss: 123.28369262155178\n",
      "test_accuracy: 0.9553460315265486\n",
      "val_loss: 123.78283971150717\n",
      "val_accuracy: 0.9550238715277778\n"
     ]
    },
    {
     "data": {
      "application/vnd.jupyter.widget-view+json": {
       "model_id": "9a0d4505a001411ab3ba08bf6a0558bb",
       "version_major": 2,
       "version_minor": 0
      },
      "text/plain": [
       "  0%|          | 0/363 [00:00<?, ?it/s]"
      ]
     },
     "metadata": {},
     "output_type": "display_data"
    },
    {
     "data": {
      "application/vnd.jupyter.widget-view+json": {
       "model_id": "f990fa9fe10f445dbec5110f7ec71b8b",
       "version_major": 2,
       "version_minor": 0
      },
      "text/plain": [
       "  0%|          | 0/113 [00:00<?, ?it/s]"
      ]
     },
     "metadata": {},
     "output_type": "display_data"
    },
    {
     "data": {
      "application/vnd.jupyter.widget-view+json": {
       "model_id": "b305e8080da54498a93e6526704883a3",
       "version_major": 2,
       "version_minor": 0
      },
      "text/plain": [
       "  0%|          | 0/90 [00:00<?, ?it/s]"
      ]
     },
     "metadata": {},
     "output_type": "display_data"
    },
    {
     "name": "stdout",
     "output_type": "stream",
     "text": [
      "epoch: 30\n",
      "bernoulli: 0.965\n",
      "train_loss: 123.85156355088078\n",
      "train_accuracy: 0.951809465392562\n",
      "lr: 0.0010000000000000002\n",
      "test_loss: 122.77132820872079\n",
      "test_accuracy: 0.9558559181415929\n",
      "val_loss: 120.0531618754069\n",
      "val_accuracy: 0.9557834201388888\n"
     ]
    },
    {
     "data": {
      "application/vnd.jupyter.widget-view+json": {
       "model_id": "299fcb6b40804fe68ef4a0ee0d4aad46",
       "version_major": 2,
       "version_minor": 0
      },
      "text/plain": [
       "  0%|          | 0/363 [00:00<?, ?it/s]"
      ]
     },
     "metadata": {},
     "output_type": "display_data"
    },
    {
     "data": {
      "application/vnd.jupyter.widget-view+json": {
       "model_id": "13260c73a331463b9f4938188e0246a7",
       "version_major": 2,
       "version_minor": 0
      },
      "text/plain": [
       "  0%|          | 0/113 [00:00<?, ?it/s]"
      ]
     },
     "metadata": {},
     "output_type": "display_data"
    },
    {
     "data": {
      "application/vnd.jupyter.widget-view+json": {
       "model_id": "3f79b8f8cb0c4f9f8c50ad817516c228",
       "version_major": 2,
       "version_minor": 0
      },
      "text/plain": [
       "  0%|          | 0/90 [00:00<?, ?it/s]"
      ]
     },
     "metadata": {},
     "output_type": "display_data"
    },
    {
     "name": "stdout",
     "output_type": "stream",
     "text": [
      "epoch 31: Update best weights\n",
      "epoch: 31\n",
      "bernoulli: 0.97\n",
      "train_loss: 114.61730730040999\n",
      "train_accuracy: 0.9555731318870524\n",
      "lr: 0.0010000000000000002\n",
      "test_loss: 122.45195236881223\n",
      "test_accuracy: 0.9559855503318584\n",
      "val_loss: 119.78102696736654\n",
      "val_accuracy: 0.9568684895833334\n"
     ]
    },
    {
     "data": {
      "application/vnd.jupyter.widget-view+json": {
       "model_id": "476e2f9f8693463d8d2ad1b34d53af5a",
       "version_major": 2,
       "version_minor": 0
      },
      "text/plain": [
       "  0%|          | 0/363 [00:00<?, ?it/s]"
      ]
     },
     "metadata": {},
     "output_type": "display_data"
    },
    {
     "data": {
      "application/vnd.jupyter.widget-view+json": {
       "model_id": "8b8a15b5bc3a4b6781d57198951dcc41",
       "version_major": 2,
       "version_minor": 0
      },
      "text/plain": [
       "  0%|          | 0/113 [00:00<?, ?it/s]"
      ]
     },
     "metadata": {},
     "output_type": "display_data"
    },
    {
     "data": {
      "application/vnd.jupyter.widget-view+json": {
       "model_id": "a2c2eefea0f24d839ff8eef45fb96f84",
       "version_major": 2,
       "version_minor": 0
      },
      "text/plain": [
       "  0%|          | 0/90 [00:00<?, ?it/s]"
      ]
     },
     "metadata": {},
     "output_type": "display_data"
    },
    {
     "name": "stdout",
     "output_type": "stream",
     "text": [
      "epoch: 32\n",
      "bernoulli: 0.965\n",
      "train_loss: 120.04224120421186\n",
      "train_accuracy: 0.9531788050964187\n",
      "lr: 0.0010000000000000002\n",
      "test_loss: 123.81312371988213\n",
      "test_accuracy: 0.9556571487831859\n",
      "val_loss: 120.697838083903\n",
      "val_accuracy: 0.9562608506944444\n"
     ]
    },
    {
     "data": {
      "application/vnd.jupyter.widget-view+json": {
       "model_id": "5bad2c9bd642469fb04d2fef9f4bea57",
       "version_major": 2,
       "version_minor": 0
      },
      "text/plain": [
       "  0%|          | 0/363 [00:00<?, ?it/s]"
      ]
     },
     "metadata": {},
     "output_type": "display_data"
    },
    {
     "data": {
      "application/vnd.jupyter.widget-view+json": {
       "model_id": "cafae654ecb14502b02b847049666fec",
       "version_major": 2,
       "version_minor": 0
      },
      "text/plain": [
       "  0%|          | 0/113 [00:00<?, ?it/s]"
      ]
     },
     "metadata": {},
     "output_type": "display_data"
    },
    {
     "data": {
      "application/vnd.jupyter.widget-view+json": {
       "model_id": "d50f452ce11c4d7393370a6f8f372ac0",
       "version_major": 2,
       "version_minor": 0
      },
      "text/plain": [
       "  0%|          | 0/90 [00:00<?, ?it/s]"
      ]
     },
     "metadata": {},
     "output_type": "display_data"
    },
    {
     "name": "stdout",
     "output_type": "stream",
     "text": [
      "epoch: 33\n",
      "bernoulli: 0.96\n",
      "train_loss: 124.37723135619781\n",
      "train_accuracy: 0.9514731835399449\n",
      "lr: 0.0010000000000000002\n",
      "test_loss: 119.51894351655403\n",
      "test_accuracy: 0.9571435978982301\n",
      "val_loss: 117.91636827256944\n",
      "val_accuracy: 0.9568359375\n"
     ]
    },
    {
     "data": {
      "application/vnd.jupyter.widget-view+json": {
       "model_id": "ca04d8504be540a18627400dc3a75468",
       "version_major": 2,
       "version_minor": 0
      },
      "text/plain": [
       "  0%|          | 0/363 [00:00<?, ?it/s]"
      ]
     },
     "metadata": {},
     "output_type": "display_data"
    },
    {
     "data": {
      "application/vnd.jupyter.widget-view+json": {
       "model_id": "d57c831a780e4491a79ac0dd356c43c5",
       "version_major": 2,
       "version_minor": 0
      },
      "text/plain": [
       "  0%|          | 0/113 [00:00<?, ?it/s]"
      ]
     },
     "metadata": {},
     "output_type": "display_data"
    },
    {
     "data": {
      "application/vnd.jupyter.widget-view+json": {
       "model_id": "21879dda7ba649cc928b160881677dc8",
       "version_major": 2,
       "version_minor": 0
      },
      "text/plain": [
       "  0%|          | 0/90 [00:00<?, ?it/s]"
      ]
     },
     "metadata": {},
     "output_type": "display_data"
    },
    {
     "name": "stdout",
     "output_type": "stream",
     "text": [
      "epoch 34: Update best weights\n",
      "epoch: 34\n",
      "bernoulli: 0.965\n",
      "train_loss: 117.28965601645226\n",
      "train_accuracy: 0.9540262353650137\n",
      "lr: 0.0010000000000000002\n",
      "test_loss: 120.60047095644791\n",
      "test_accuracy: 0.9560892560840708\n",
      "val_loss: 117.72687225341797\n",
      "val_accuracy: 0.9571506076388889\n"
     ]
    },
    {
     "data": {
      "application/vnd.jupyter.widget-view+json": {
       "model_id": "1bbd1a12af0d4931b221a31c534cacaa",
       "version_major": 2,
       "version_minor": 0
      },
      "text/plain": [
       "  0%|          | 0/363 [00:00<?, ?it/s]"
      ]
     },
     "metadata": {},
     "output_type": "display_data"
    },
    {
     "data": {
      "application/vnd.jupyter.widget-view+json": {
       "model_id": "c69ccbd92f224bdc900bdc7315839458",
       "version_major": 2,
       "version_minor": 0
      },
      "text/plain": [
       "  0%|          | 0/113 [00:00<?, ?it/s]"
      ]
     },
     "metadata": {},
     "output_type": "display_data"
    },
    {
     "data": {
      "application/vnd.jupyter.widget-view+json": {
       "model_id": "1ceee6e329b54a63a2b391c43779e4e3",
       "version_major": 2,
       "version_minor": 0
      },
      "text/plain": [
       "  0%|          | 0/90 [00:00<?, ?it/s]"
      ]
     },
     "metadata": {},
     "output_type": "display_data"
    },
    {
     "name": "stdout",
     "output_type": "stream",
     "text": [
      "epoch: 35\n",
      "bernoulli: 0.96\n",
      "train_loss: 122.28914392224357\n",
      "train_accuracy: 0.9521511277548209\n",
      "lr: 0.0010000000000000002\n",
      "test_loss: 119.2733955045717\n",
      "test_accuracy: 0.9566250691371682\n",
      "val_loss: 117.59567498101129\n",
      "val_accuracy: 0.9569444444444445\n"
     ]
    },
    {
     "data": {
      "application/vnd.jupyter.widget-view+json": {
       "model_id": "8a93e67bced0495c9f17d9ff646544ac",
       "version_major": 2,
       "version_minor": 0
      },
      "text/plain": [
       "  0%|          | 0/363 [00:00<?, ?it/s]"
      ]
     },
     "metadata": {},
     "output_type": "display_data"
    }
   ],
   "source": [
    "for epoch in range(n_epochs):\n",
    "    \n",
    "    train_indices = train_indices[torch.randperm(len(train_indices))]\n",
    "    \n",
    "    net.train()\n",
    "    stats = defaultdict(list)\n",
    "    for i in tqdm(range(epoch_length)):\n",
    "        \n",
    "        indices = train_indices[i * batch: (i + 1) * batch]\n",
    "        xi_cat = x_cat[indices]\n",
    "        xi_num = x_num[indices]\n",
    "        yi = y[indices]\n",
    "                \n",
    "        mask_num = bernoulli.sample(sample_shape=xi_num.shape).bool().to(device)\n",
    "        xi_num_masked = xi_num.clone()\n",
    "        xi_num_masked[~mask_num] = torch.tensor(-np.inf, device=xi_num.device)\n",
    "        \n",
    "        mask_cat = bernoulli.sample(sample_shape=xi_cat.shape).long().to(device)\n",
    "        xi_cat_masked = xi_cat * mask_cat\n",
    "        \n",
    "        yhat, _, _ = net(xi_num_masked, xi_cat_masked)\n",
    "        loss = F.cross_entropy(yhat, yi, reduction='sum')\n",
    "    \n",
    "        loss_t = loss\n",
    "        \n",
    "        optimizer.zero_grad()\n",
    "        loss_t.backward()\n",
    "        optimizer.step()\n",
    "        \n",
    "        stats['train_loss'].append(float(loss))\n",
    "\n",
    "        stats['train_accuracy'].append(float((yhat.argmax(dim=1) == yi).float().mean()))\n",
    "        stats['lr'].append(float(optimizer.dense.param_groups[0]['lr']))\n",
    "        \n",
    "    net.eval()\n",
    "    \n",
    "    with torch.no_grad():\n",
    "        for i in tqdm(range(epoch_length_test)):\n",
    "\n",
    "            indices = test_indices[i * batch: (i + 1) * batch]\n",
    "            xi_cat = x_cat[indices]\n",
    "            xi_num = x_num[indices]\n",
    "            yi = y[indices]\n",
    "            \n",
    "            yhat, _, _ = net(xi_num, xi_cat)\n",
    "            loss = F.cross_entropy(yhat, yi, reduction='sum')    \n",
    "    \n",
    "            stats['test_loss'].append(float(loss))\n",
    "            stats['test_accuracy'].append(float((yhat.argmax(dim=1) == yi).float().mean()))\n",
    "            \n",
    "        for i in tqdm(range(epoch_length_val)):\n",
    "\n",
    "            indices = validation_indices[i * batch: (i + 1) * batch]\n",
    "            xi_cat = x_cat[indices]\n",
    "            xi_num = x_num[indices]\n",
    "            yi = y[indices]\n",
    "            \n",
    "            yhat, _, _ = net(xi_num, xi_cat)\n",
    "            loss = F.cross_entropy(yhat, yi, reduction='sum')    \n",
    "    \n",
    "            stats['val_loss'].append(float(loss))\n",
    "            stats['val_accuracy'].append(float((yhat.argmax(dim=1) == yi).float().mean()))\n",
    "    \n",
    "    acc = float(np.mean(stats['val_accuracy']))\n",
    "    val_loss = float(np.mean(stats['val_loss']))\n",
    "    train_loss = float(np.mean(stats['train_loss']))\n",
    "        \n",
    "    scheduler_dense.step(val_loss)\n",
    "    scheduler_sparse.step(val_loss)\n",
    "    \n",
    "    if acc > best_acc:\n",
    "        best_weight = net.state_dict()\n",
    "        best_acc = acc\n",
    "        print(f'epoch {epoch}: Update best weights')\n",
    "\n",
    "    print(f\"epoch: {epoch}\")\n",
    "    print(f'bernoulli: {br}')\n",
    "    for k, v in stats.items():\n",
    "        print(f\"{k}: {np.mean(v)}\")\n",
    "        \n",
    "    if train_loss < val_loss:\n",
    "        br = max(0, br - br_d)\n",
    "    else:  \n",
    "        br = min(br + br_d, 1)\n",
    "        \n",
    "    bernoulli = torch.distributions.bernoulli.Bernoulli(probs=br)\n",
    "    if float(optimizer.dense.param_groups[0]['lr']) < min_lr:\n",
    "        break\n",
    "            "
   ]
  },
  {
   "cell_type": "code",
   "execution_count": null,
   "metadata": {},
   "outputs": [],
   "source": [
    "ensambles = 16\n",
    "bernoulli = torch.distributions.bernoulli.Bernoulli(probs=.98)\n",
    "\n",
    "dataset_indices = test_indices\n",
    "\n",
    "y_agg = []\n",
    "y_hat_agg = []\n",
    "net.eval()\n",
    "\n",
    "with torch.no_grad():\n",
    "    for i in tqdm(range(min(1000, int(len(dataset_indices) / (batch_test // ensambles))))):\n",
    "\n",
    "        indices = dataset_indices[i * batch_test // ensambles: (i + 1) * batch_test // ensambles]\n",
    "        xi_cat = x_cat[indices].unsqueeze(1).repeat(1, ensambles, 1).view(len(indices) * ensambles, -1)\n",
    "        yi = y[indices]\n",
    "        xi_num = x_num[indices].unsqueeze(1).repeat(1, ensambles, 1).view(len(indices) * ensambles, -1)\n",
    "        \n",
    "        mask_num = bernoulli.sample(sample_shape=xi_num.shape).bool().to(device)\n",
    "        xi_num_masked = xi_num.clone()\n",
    "        xi_num_masked[~mask_num] = torch.tensor(-np.inf, device=xi_num.device)\n",
    "        \n",
    "        mask_cat = bernoulli.sample(sample_shape=xi_cat.shape).long().to(device)\n",
    "        xi_cat_masked = xi_cat * mask_cat\n",
    "            \n",
    "        yhat, _, _ = net(xi_num_masked, xi_cat_masked)\n",
    "\n",
    "        yhat = torch.softmax(yhat, dim=1)\n",
    "        yhat = yhat.view(len(indices), ensambles, -1).mean(dim=1)\n",
    "        \n",
    "        y_hat_agg.append(yhat)\n",
    "        y_agg.append(yi)\n",
    "        "
   ]
  },
  {
   "cell_type": "code",
   "execution_count": null,
   "metadata": {},
   "outputs": [],
   "source": [
    "y_agg = torch.cat(y_agg)\n",
    "y_hat_agg = torch.cat(y_hat_agg, dim=0)"
   ]
  },
  {
   "cell_type": "code",
   "execution_count": null,
   "metadata": {},
   "outputs": [],
   "source": [
    "acc = torch.argmax(y_hat_agg, dim=-1) == y_agg"
   ]
  },
  {
   "cell_type": "code",
   "execution_count": null,
   "metadata": {},
   "outputs": [],
   "source": [
    "y_hat_agg.max(dim=-1)[0][~acc].mean()"
   ]
  },
  {
   "cell_type": "code",
   "execution_count": null,
   "metadata": {},
   "outputs": [],
   "source": [
    "torch.quantile(y_hat_agg.max(dim=-1)[0], 0.5)"
   ]
  },
  {
   "cell_type": "code",
   "execution_count": null,
   "metadata": {},
   "outputs": [],
   "source": [
    "acc.float().mean()"
   ]
  },
  {
   "cell_type": "markdown",
   "metadata": {},
   "source": [
    "## Loading and storing weights"
   ]
  },
  {
   "cell_type": "code",
   "execution_count": null,
   "metadata": {},
   "outputs": [],
   "source": [
    "curr_weight = net.state_dict()"
   ]
  },
  {
   "cell_type": "code",
   "execution_count": null,
   "metadata": {},
   "outputs": [],
   "source": [
    "net.load_state_dict(best_weight)"
   ]
  },
  {
   "cell_type": "code",
   "execution_count": null,
   "metadata": {},
   "outputs": [],
   "source": [
    "net.load_state_dict(curr_weight)"
   ]
  },
  {
   "cell_type": "code",
   "execution_count": null,
   "metadata": {},
   "outputs": [],
   "source": [
    "torch.save(net.state_dict(), 'net')"
   ]
  }
 ],
 "metadata": {
  "kernelspec": {
   "display_name": "Python 3 (ipykernel)",
   "language": "python",
   "name": "python3"
  },
  "language_info": {
   "codemirror_mode": {
    "name": "ipython",
    "version": 3
   },
   "file_extension": ".py",
   "mimetype": "text/x-python",
   "name": "python",
   "nbconvert_exporter": "python",
   "pygments_lexer": "ipython3",
   "version": "3.8.10"
  }
 },
 "nbformat": 4,
 "nbformat_minor": 4
}
